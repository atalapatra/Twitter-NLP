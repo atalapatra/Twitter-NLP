{
 "cells": [
  {
   "cell_type": "markdown",
   "metadata": {},
   "source": [
    "### Load Packages"
   ]
  },
  {
   "cell_type": "code",
   "execution_count": 1,
   "metadata": {},
   "outputs": [],
   "source": [
    "import Module\n",
    "import tweepy\n",
    "import json\n",
    "import pandas as pd\n",
    "from textblob import TextBlob\n",
    "import matplotlib.pyplot as plt"
   ]
  },
  {
   "cell_type": "markdown",
   "metadata": {},
   "source": [
    "### Connecting to Twitter API"
   ]
  },
  {
   "cell_type": "code",
   "execution_count": 4,
   "metadata": {},
   "outputs": [],
   "source": [
    "connections = json.load(open('C:/Users/amitt/OneDrive/Code/2020-07-29 Twitter API Keys/connection.json'))\n",
    "api_key = connections['Twitter API']['API Key']\n",
    "api_secret_key = connections['Twitter API']['API Secret Key']\n",
    "bearer_token = connections['Twitter API']['Bearer Token']\n",
    "access_token = connections['Twitter API']['Access Token']\n",
    "access_token_secret = connections['Twitter API']['Access Token Secret']\n",
    "\n",
    "auth = tweepy.OAuthHandler(api_key, api_secret_key)\n",
    "auth.set_access_token(access_token, access_token_secret)\n",
    "\n",
    "api = tweepy.API(auth)"
   ]
  },
  {
   "cell_type": "markdown",
   "metadata": {},
   "source": [
    "### Sentiment Analysis using TextBlob"
   ]
  },
  {
   "cell_type": "code",
   "execution_count": 6,
   "metadata": {
    "scrolled": true
   },
   "outputs": [
    {
     "data": {
      "image/png": "[encoded data removed]",
      "text/plain": [
       "<Figure size 576x432 with 1 Axes>"
      ]
     },
     "metadata": {
      "needs_background": "light"
     },
     "output_type": "display_data"
    }
   ],
   "source": [
    "# Create a custom search term and define the number of tweets\n",
    "search_term = \"#cyberpunk+2077 -filter:retweets\"\n",
    "\n",
    "tweets = tweepy.Cursor(api.search,\n",
    "                   q=search_term,\n",
    "                   lang=\"en\",\n",
    "                   since='2020-01-01').items(1000)\n",
    "\n",
    "# Remove URLs\n",
    "tweets_no_urls = [Module.remove_url(tweet.text) for tweet in tweets]\n",
    "    \n",
    "# Create textblob objects of the tweets\n",
    "sentiment_objects = [TextBlob(tweet) for tweet in tweets_no_urls]\n",
    "\n",
    "sentiment_objects[0].polarity, sentiment_objects[0]\n",
    "\n",
    "sentiment_values = [[tweet.sentiment.polarity, str(tweet)] for tweet in sentiment_objects]\n",
    "\n",
    "# Create dataframe containing the polarity value and tweet text\n",
    "sentiment_df = pd.DataFrame(sentiment_values, columns=[\"polarity\", \"tweet\"])\n",
    "\n",
    "# Plot histogram\n",
    "fig, ax = plt.subplots(figsize=(8, 6))\n",
    "\n",
    "# Plot histogram of the polarity values\n",
    "sentiment_df.hist(bins=[-1, -0.75, -0.5, -0.25, 0.25, 0.5, 0.75, 1],\n",
    "             ax=ax,\n",
    "             color=\"purple\")\n",
    "\n",
    "plt.show()"
   ]
  },
  {
   "cell_type": "markdown",
   "metadata": {},
   "source": [
    "### Resources\n",
    "http://docs.tweepy.org/en/v3.5.0/getting_started.html <br>\n",
    "https://towardsdatascience.com/tweepy-for-beginners-24baf21f2c25<br>\n",
    "http://docs.tweepy.org/en/latest/\n",
    "\n",
    "Creating The Twitter Sentiment Analysis Program in Python with Naive Bayes Classification<br>\n",
    "https://towardsdatascience.com/creating-the-twitter-sentiment-analysis-program-in-python-with-naive-bayes-classification-672e5589a7ed<br>\n",
    "\n",
    "Tweepy, TextBlob and Sentiment Analysis — Python<br>\n",
    "https://medium.com/@r.ratan/tweepy-textblob-and-sentiment-analysis-python-47cc613a4e51\n",
    "\n",
    "TextBlob: Simplified Text Processing<br>\n",
    "https://textblob.readthedocs.io/en/dev/<br>\n",
    "https://www.earthdatascience.org/courses/use-data-open-source-python/intro-to-apis/analyze-tweet-sentiment-in-python/"
   ]
  }
 ],
 "metadata": {
  "kernelspec": {
   "display_name": "Python 3",
   "language": "python",
   "name": "python3"
  },
  "language_info": {
   "codemirror_mode": {
    "name": "ipython",
    "version": 3
   },
   "file_extension": ".py",
   "mimetype": "text/x-python",
   "name": "python",
   "nbconvert_exporter": "python",
   "pygments_lexer": "ipython3",
   "version": "3.7.7"
  }
 },
 "nbformat": 4,
 "nbformat_minor": 4
}
